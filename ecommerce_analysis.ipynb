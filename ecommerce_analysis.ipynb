{
 "cells": [
  {
   "cell_type": "markdown",
   "id": "5e217ca6-634b-45fa-9f36-6a9df224cf78",
   "metadata": {},
   "source": [
    "# Projet E-commerce Analytics\n",
    "\n",
    "## Objectifs\n",
    "Ce projet a pour objectif de concevoir et analyser une base e-commerce fictive afin d’en extraire des indicateurs clés de performance et des insights business, à l’aide de Python et SQL."
   ]
  },
  {
   "cell_type": "code",
   "execution_count": 769,
   "id": "1db6487f",
   "metadata": {},
   "outputs": [],
   "source": [
    "# Importation des librairies nécessaires\n",
    "import sqlite3\n",
    "import pandas as pd\n",
    "import matplotlib.pyplot as plt\n",
    "\n",
    "# Connexion\n",
    "conn = sqlite3.connect(\"data/ecommerce.db\")\n",
    "\n",
    "# Chargement des tables\n",
    "df_customers = pd.read_sql(\"SELECT * FROM customers;\", conn)\n",
    "df_orders = pd.read_sql(\"SELECT * FROM orders;\", conn)\n",
    "df_order_items = pd.read_sql(\"SELECT * FROM order_items;\", conn)\n",
    "df_products = pd.read_sql(\"SELECT * FROM products;\", conn)\n",
    "\n",
    "conn.close()"
   ]
  },
  {
   "cell_type": "code",
   "execution_count": 770,
   "id": "cdd68234",
   "metadata": {},
   "outputs": [
    {
     "name": "stdout",
     "output_type": "stream",
     "text": [
      "=== KPIs flash ===\n",
      "CA total            : 16,089.11 €\n",
      "Mois le plus fort   : 2025-07\n",
      "Mois le plus faible : 2025-09\n",
      "Nb de commandes     : 120\n",
      "Panier moyen        : 134.08 €\n",
      "Taux de réachat     : 90.0 %\n",
      "Marché principal    : UK (~42% du CA)\n",
      "\n",
      "Nous allons montrer : \n",
      " • Qu'une minorité de clients génère la majorité du CA → focus fidélisation VIP\n",
      " • Que la distribution des paniers est concentrée entre 50–150 € (quelques gros paniers tirent la moyenne vers le haut)\n"
     ]
    }
   ],
   "source": [
    "# 1) CA total & nb de commandes\n",
    "total_revenue = df_orders[\"total_amount\"].sum()\n",
    "num_orders    = df_orders[\"order_id\"].nunique()\n",
    "\n",
    "# 2) Panier moyen\n",
    "avg_order_value = df_orders[\"total_amount\"].mean()\n",
    "\n",
    "# 3) Taux de réachat (clients avec ≥2 commandes)\n",
    "orders_per_client = df_orders.groupby(\"customer_id\")[\"order_id\"].nunique()\n",
    "repeat_rate = (orders_per_client.ge(2).mean() * 100)  # en %\n",
    "\n",
    "# 4) Part du CA du meilleur pays\n",
    "df_oc = df_orders.merge(df_customers, on=\"customer_id\", how=\"left\")\n",
    "rev_by_country = df_oc.groupby(\"country\", as_index=False)[\"total_amount\"].sum().rename(columns={\"total_amount\":\"revenue\"})\n",
    "top_country = rev_by_country.sort_values(\"revenue\", ascending=False).iloc[0]\n",
    "\n",
    "# 5) CA mensuel: hauts/bas\n",
    "best_month = df_monthly.loc[df_monthly[\"revenue\"].idxmax(), \"order_month\"]\n",
    "worst_month = df_monthly.loc[df_monthly[\"revenue\"].idxmin(), \"order_month\"]\n",
    "\n",
    "\n",
    "print(\"=== KPIs flash ===\")\n",
    "print(f\"CA total            : {total_revenue:,.2f} €\")\n",
    "print(f\"Mois le plus fort   : {best_month}\")\n",
    "print(f\"Mois le plus faible : {worst_month}\")\n",
    "print(f\"Nb de commandes     : {num_orders}\")\n",
    "print(f\"Panier moyen        : {avg_order_value:,.2f} €\")\n",
    "print(f\"Taux de réachat     : {repeat_rate:.1f} %\")\n",
    "print(f\"Marché principal    : {top_country['country']} (~{top_country['revenue'] / rev_by_country['revenue'].sum():.0%} du CA)\")\n",
    "\n",
    "\n",
    "print(\"\\nNous allons montrer : \\n • Qu'une minorité de clients génère la majorité du CA → focus fidélisation VIP\")\n",
    "print(\" • Que la distribution des paniers est concentrée entre 50–150 € (quelques gros paniers tirent la moyenne vers le haut)\")"
   ]
  },
  {
   "cell_type": "code",
   "execution_count": 771,
   "id": "91761d3e",
   "metadata": {},
   "outputs": [
    {
     "data": {
      "image/png": "[encoded data removed]",
      "text/plain": [
       "<Figure size 504x288 with 2 Axes>"
      ]
     },
     "metadata": {
      "needs_background": "light"
     },
     "output_type": "display_data"
    }
   ],
   "source": [
    "# Graphique CA mensuel + cumul\n",
    "\n",
    "# 1) Recalcule proprement \n",
    "df_orders[\"order_date\"] = pd.to_datetime(df_orders[\"order_date\"])\n",
    "df_orders[\"order_month\"] = df_orders[\"order_date\"].dt.to_period(\"M\").astype(str)\n",
    "\n",
    "df_monthly = (\n",
    "    df_orders.groupby(\"order_month\", as_index=False)[\"total_amount\"]\n",
    "             .sum()\n",
    "             .rename(columns={\"total_amount\": \"revenue\"})\n",
    "             .sort_values(\"order_month\")\n",
    ")\n",
    "df_monthly[\"cumulative_revenue\"] = df_monthly[\"revenue\"].cumsum()\n",
    "\n",
    "fig, ax1 = plt.subplots(figsize=(7,4))\n",
    "\n",
    "ax1.bar(df_monthly[\"order_month\"], df_monthly[\"revenue\"])\n",
    "ax1.set_xlabel(\"Mois\")\n",
    "ax1.set_ylabel(\"CA mensuel (€)\")\n",
    "ax1.tick_params(axis=\"x\", rotation=45)\n",
    "\n",
    "ax2 = ax1.twinx()\n",
    "ax2.plot(df_monthly[\"order_month\"], df_monthly[\"cumulative_revenue\"], marker=\"o\", color=\"red\")\n",
    "ax2.set_ylabel(\"CA cumulé (€)\")\n",
    "\n",
    "plt.title(\"CA mensuel et cumul\")\n",
    "plt.tight_layout()\n",
    "plt.show()"
   ]
  },
  {
   "cell_type": "markdown",
   "id": "c0b9ecbb",
   "metadata": {},
   "source": [
    "1.\tTendance mensuelle\n",
    "\n",
    "\t•\tJuillet ≈ plus haut mois (~6 000 €) <br>\n",
    "\t•\tAoût un peu plus faible (~5 000 €) <br>\n",
    "\t•\tSeptembre encore un cran en dessous (~4 000 €) <br>\n",
    "👉 Le chiffre d’affaires baisse légèrement au fil des mois <br>\n",
    "\n",
    "\n",
    "2.\tCumul\n",
    "\n",
    "\t•\tLa courbe rouge monte régulièrement → le CA s’accumule naturellement <br>\n",
    "\t•\tAu bout de 3 mois, environ de 15 000 € de CA total \n",
    "\n",
    "3.\tInterprétation business\n",
    "\n",
    "\t•\t“Le lancement en juillet a bien fonctionné, mais la tendance est légèrement à la baisse” <br>\n",
    "\t•\t“Si la base s’arrêtait là, l’entreprise ferait ≈ 5 000 €/mois en moyenne” <br>\n",
    "\t•\t“Un enjeu business serait de comprendre pourquoi septembre est plus bas (saisonnalité ? moins de clients ? moins de commandes ?)”"
   ]
  },
  {
   "cell_type": "code",
   "execution_count": 772,
   "id": "64bec20e",
   "metadata": {},
   "outputs": [
    {
     "name": "stdout",
     "output_type": "stream",
     "text": [
      "💡 Panier moyen global : 134.08 €\n",
      "\n",
      "💡 Panier moyen par mois :\n"
     ]
    },
    {
     "data": {
      "text/html": [
       "<div>\n",
       "<style scoped>\n",
       "    .dataframe tbody tr th:only-of-type {\n",
       "        vertical-align: middle;\n",
       "    }\n",
       "\n",
       "    .dataframe tbody tr th {\n",
       "        vertical-align: top;\n",
       "    }\n",
       "\n",
       "    .dataframe thead th {\n",
       "        text-align: right;\n",
       "    }\n",
       "</style>\n",
       "<table border=\"1\" class=\"dataframe\">\n",
       "  <thead>\n",
       "    <tr style=\"text-align: right;\">\n",
       "      <th></th>\n",
       "      <th>order_month</th>\n",
       "      <th>avg_order_value</th>\n",
       "    </tr>\n",
       "  </thead>\n",
       "  <tbody>\n",
       "    <tr>\n",
       "      <th>0</th>\n",
       "      <td>2025-07</td>\n",
       "      <td>132.741837</td>\n",
       "    </tr>\n",
       "    <tr>\n",
       "      <th>1</th>\n",
       "      <td>2025-08</td>\n",
       "      <td>143.813421</td>\n",
       "    </tr>\n",
       "    <tr>\n",
       "      <th>2</th>\n",
       "      <td>2025-09</td>\n",
       "      <td>124.843939</td>\n",
       "    </tr>\n",
       "  </tbody>\n",
       "</table>\n",
       "</div>"
      ],
      "text/plain": [
       "  order_month  avg_order_value\n",
       "0     2025-07       132.741837\n",
       "1     2025-08       143.813421\n",
       "2     2025-09       124.843939"
      ]
     },
     "metadata": {},
     "output_type": "display_data"
    },
    {
     "data": {
      "image/png": "[encoded data removed]",
      "text/plain": [
       "<Figure size 504x288 with 1 Axes>"
      ]
     },
     "metadata": {
      "needs_background": "light"
     },
     "output_type": "display_data"
    }
   ],
   "source": [
    "# Panier moyen global\n",
    "print(f\"💡 Panier moyen global : {avg_order_value:.2f} €\")\n",
    "\n",
    "# Panier moyen par mois\n",
    "avg_by_month = (\n",
    "    df_orders.groupby(\"order_month\", as_index=False)[\"total_amount\"]\n",
    "             .mean()\n",
    "             .rename(columns={\"total_amount\": \"avg_order_value\"})\n",
    ")\n",
    "print(\"\\n💡 Panier moyen par mois :\")\n",
    "display(avg_by_month)\n",
    "\n",
    "\n",
    "# Distribution des paniers\n",
    "plt.figure(figsize=(7,4))\n",
    "plt.hist(df_orders[\"total_amount\"], bins=15, edgecolor=\"black\")\n",
    "plt.title(\"Distribution des paniers (montant des commandes)\")\n",
    "plt.xlabel(\"Montant de commande (€)\")\n",
    "plt.ylabel(\"Nombre de commandes\")\n",
    "plt.show()"
   ]
  },
  {
   "cell_type": "markdown",
   "id": "83aedd3c",
   "metadata": {},
   "source": [
    "Segment coeur : la majorité des commandes ≈ 50–150 €<br>\n",
    "- Gros paniers rares : attention à ne pas se baser uniquement dessus, car ils ne représentent pas la majorité.\n",
    "- Tendance mensuelle : surveiller la baisse de septembre"
   ]
  },
  {
   "cell_type": "code",
   "execution_count": 773,
   "id": "5408ffec",
   "metadata": {},
   "outputs": [
    {
     "data": {
      "image/png": "[encoded data removed]",
      "text/plain": [
       "<Figure size 504x288 with 2 Axes>"
      ]
     },
     "metadata": {
      "needs_background": "light"
     },
     "output_type": "display_data"
    }
   ],
   "source": [
    "# CA total par client\n",
    "rev_by_client = (\n",
    "    df_orders.groupby(\"customer_id\", as_index=False)[\"total_amount\"]\n",
    "             .sum()\n",
    "             .rename(columns={\"total_amount\": \"customer_revenue\"})\n",
    "             .sort_values(\"customer_revenue\", ascending=False)\n",
    "             .reset_index(drop=True)\n",
    ")\n",
    "\n",
    "# Ajoute une colonne \"part cumulée\" (% du CA global)\n",
    "rev_by_client[\"cum_share\"] = rev_by_client[\"customer_revenue\"].cumsum() / rev_by_client[\"customer_revenue\"].sum()\n",
    "\n",
    "# Graph courbe de Pareto\n",
    "fig, ax1 = plt.subplots(figsize=(7,4))\n",
    "ax1.bar(rev_by_client.index, rev_by_client[\"customer_revenue\"])\n",
    "ax1.set_xlabel(\"Clients (classés du plus gros au plus petit)\")\n",
    "ax1.set_ylabel(\"CA par client (€)\")\n",
    "\n",
    "ax2 = ax1.twinx()\n",
    "ax2.plot(rev_by_client.index, rev_by_client[\"cum_share\"], color=\"red\", marker=\"o\")\n",
    "ax2.set_ylabel(\"Part cumulée du CA\")\n",
    "\n",
    "plt.title(\"Courbe de Pareto (CA par client)\")\n",
    "plt.tight_layout()\n",
    "plt.show()"
   ]
  },
  {
   "cell_type": "markdown",
   "id": "f3e3ad51",
   "metadata": {},
   "source": [
    "Environ 30 % des clients génèrent 80 % du chiffre d’affaires → concentrer les efforts de fidélisation et d’upsell sur ces clients clés"
   ]
  },
  {
   "cell_type": "code",
   "execution_count": 774,
   "id": "c8862798",
   "metadata": {},
   "outputs": [
    {
     "name": "stdout",
     "output_type": "stream",
     "text": [
      "💡 Top produits :\n"
     ]
    },
    {
     "data": {
      "text/html": [
       "<div>\n",
       "<style scoped>\n",
       "    .dataframe tbody tr th:only-of-type {\n",
       "        vertical-align: middle;\n",
       "    }\n",
       "\n",
       "    .dataframe tbody tr th {\n",
       "        vertical-align: top;\n",
       "    }\n",
       "\n",
       "    .dataframe thead th {\n",
       "        text-align: right;\n",
       "    }\n",
       "</style>\n",
       "<table border=\"1\" class=\"dataframe\">\n",
       "  <thead>\n",
       "    <tr style=\"text-align: right;\">\n",
       "      <th></th>\n",
       "      <th>product_name</th>\n",
       "      <th>revenue</th>\n",
       "    </tr>\n",
       "  </thead>\n",
       "  <tbody>\n",
       "    <tr>\n",
       "      <th>3</th>\n",
       "      <td>Fitness Tracker</td>\n",
       "      <td>3953.00</td>\n",
       "    </tr>\n",
       "    <tr>\n",
       "      <th>7</th>\n",
       "      <td>Running Shoes</td>\n",
       "      <td>3476.00</td>\n",
       "    </tr>\n",
       "    <tr>\n",
       "      <th>0</th>\n",
       "      <td>Bluetooth Speaker</td>\n",
       "      <td>1599.00</td>\n",
       "    </tr>\n",
       "    <tr>\n",
       "      <th>10</th>\n",
       "      <td>Wireless Mouse</td>\n",
       "      <td>1174.10</td>\n",
       "    </tr>\n",
       "    <tr>\n",
       "      <th>2</th>\n",
       "      <td>Cookbook</td>\n",
       "      <td>1134.00</td>\n",
       "    </tr>\n",
       "    <tr>\n",
       "      <th>11</th>\n",
       "      <td>Yoga Mat</td>\n",
       "      <td>1128.00</td>\n",
       "    </tr>\n",
       "    <tr>\n",
       "      <th>4</th>\n",
       "      <td>Moisturizer 50ml</td>\n",
       "      <td>982.80</td>\n",
       "    </tr>\n",
       "    <tr>\n",
       "      <th>6</th>\n",
       "      <td>Novel – SciFi</td>\n",
       "      <td>734.51</td>\n",
       "    </tr>\n",
       "    <tr>\n",
       "      <th>1</th>\n",
       "      <td>Coffee Mug</td>\n",
       "      <td>637.50</td>\n",
       "    </tr>\n",
       "    <tr>\n",
       "      <th>9</th>\n",
       "      <td>USB-C Cable 1m</td>\n",
       "      <td>544.50</td>\n",
       "    </tr>\n",
       "  </tbody>\n",
       "</table>\n",
       "</div>"
      ],
      "text/plain": [
       "         product_name  revenue\n",
       "3     Fitness Tracker  3953.00\n",
       "7       Running Shoes  3476.00\n",
       "0   Bluetooth Speaker  1599.00\n",
       "10     Wireless Mouse  1174.10\n",
       "2            Cookbook  1134.00\n",
       "11           Yoga Mat  1128.00\n",
       "4    Moisturizer 50ml   982.80\n",
       "6       Novel – SciFi   734.51\n",
       "1          Coffee Mug   637.50\n",
       "9      USB-C Cable 1m   544.50"
      ]
     },
     "metadata": {},
     "output_type": "display_data"
    },
    {
     "name": "stdout",
     "output_type": "stream",
     "text": [
      "\n",
      "💡 CA par catégorie :\n"
     ]
    },
    {
     "data": {
      "text/html": [
       "<div>\n",
       "<style scoped>\n",
       "    .dataframe tbody tr th:only-of-type {\n",
       "        vertical-align: middle;\n",
       "    }\n",
       "\n",
       "    .dataframe tbody tr th {\n",
       "        vertical-align: top;\n",
       "    }\n",
       "\n",
       "    .dataframe thead th {\n",
       "        text-align: right;\n",
       "    }\n",
       "</style>\n",
       "<table border=\"1\" class=\"dataframe\">\n",
       "  <thead>\n",
       "    <tr style=\"text-align: right;\">\n",
       "      <th></th>\n",
       "      <th>category</th>\n",
       "      <th>revenue</th>\n",
       "    </tr>\n",
       "  </thead>\n",
       "  <tbody>\n",
       "    <tr>\n",
       "      <th>4</th>\n",
       "      <td>Sports</td>\n",
       "      <td>8557.00</td>\n",
       "    </tr>\n",
       "    <tr>\n",
       "      <th>2</th>\n",
       "      <td>Electronics</td>\n",
       "      <td>3317.60</td>\n",
       "    </tr>\n",
       "    <tr>\n",
       "      <th>1</th>\n",
       "      <td>Books</td>\n",
       "      <td>1868.51</td>\n",
       "    </tr>\n",
       "    <tr>\n",
       "      <th>0</th>\n",
       "      <td>Beauty</td>\n",
       "      <td>1356.60</td>\n",
       "    </tr>\n",
       "    <tr>\n",
       "      <th>3</th>\n",
       "      <td>Home</td>\n",
       "      <td>989.40</td>\n",
       "    </tr>\n",
       "  </tbody>\n",
       "</table>\n",
       "</div>"
      ],
      "text/plain": [
       "      category  revenue\n",
       "4       Sports  8557.00\n",
       "2  Electronics  3317.60\n",
       "1        Books  1868.51\n",
       "0       Beauty  1356.60\n",
       "3         Home   989.40"
      ]
     },
     "metadata": {},
     "output_type": "display_data"
    },
    {
     "data": {
      "image/png": "[encoded data removed]",
      "text/plain": [
       "<Figure size 504x288 with 1 Axes>"
      ]
     },
     "metadata": {
      "needs_background": "light"
     },
     "output_type": "display_data"
    },
    {
     "data": {
      "image/png": "[encoded data removed]",
      "text/plain": [
       "<Figure size 360x360 with 1 Axes>"
      ]
     },
     "metadata": {},
     "output_type": "display_data"
    }
   ],
   "source": [
    "# Jointure commandes + items + produits\n",
    "df_ip = df_items.merge(df_products, on=\"product_id\", how=\"left\")\n",
    "df_ip = df_ip.merge(df_orders[[\"order_id\", \"order_date\"]], on=\"order_id\", how=\"left\")\n",
    "\n",
    "# CA par produit\n",
    "rev_by_product = (\n",
    "    df_ip.groupby(\"product_name\", as_index=False)[\"line_amount\"]\n",
    "         .sum()\n",
    "         .rename(columns={\"line_amount\": \"revenue\"})\n",
    "         .sort_values(\"revenue\", ascending=False)\n",
    ")\n",
    "\n",
    "# CA par catégorie\n",
    "rev_by_category = (\n",
    "    df_ip.groupby(\"category\", as_index=False)[\"line_amount\"]\n",
    "         .sum()\n",
    "         .rename(columns={\"line_amount\": \"revenue\"})\n",
    "         .sort_values(\"revenue\", ascending=False)\n",
    ")\n",
    "\n",
    "print(\"💡 Top produits :\")\n",
    "display(rev_by_product.head(10))\n",
    "\n",
    "print(\"\\n💡 CA par catégorie :\")\n",
    "display(rev_by_category)\n",
    "\n",
    "\n",
    "\n",
    "# Graphs\n",
    "plt.figure(figsize=(7,4))\n",
    "plt.barh(rev_by_product[\"product_name\"].head(10), rev_by_product[\"revenue\"].head(10))\n",
    "plt.xlabel(\"CA (€)\")\n",
    "plt.title(\"Top 10 produits\")\n",
    "plt.gca().invert_yaxis() # Plus grand en premier\n",
    "plt.show()\n",
    "\n",
    "plt.figure(figsize=(5,5), facecolor='white')\n",
    "plt.pie(rev_by_category[\"revenue\"], labels=rev_by_category[\"category\"], autopct=\"%.1f%%\")\n",
    "plt.title(\"Répartition du CA par catégorie\")\n",
    "plt.show()"
   ]
  },
  {
   "cell_type": "markdown",
   "id": "33e0af0e",
   "metadata": {},
   "source": [
    "## Sauvegardes en local"
   ]
  },
  {
   "cell_type": "code",
   "execution_count": 775,
   "id": "51a6b2f9",
   "metadata": {},
   "outputs": [],
   "source": [
    "# Sauvegarde des figures clés\n",
    "import os\n",
    "\n",
    "os.makedirs(\"reports/figures\", exist_ok=True)\n",
    "\n",
    "# 1) CA mensuel + cumul\n",
    "fig, ax1 = plt.subplots(figsize=(8,4))\n",
    "ax1.bar(df_monthly[\"order_month\"], df_monthly[\"revenue\"])\n",
    "ax1.set_xlabel(\"Mois\"); ax1.set_ylabel(\"CA mensuel (€)\")\n",
    "ax1.tick_params(axis=\"x\", rotation=45)\n",
    "ax2 = ax1.twinx()\n",
    "ax2.plot(df_monthly[\"order_month\"], df_monthly[\"cumulative_revenue\"], marker=\"o\")\n",
    "ax2.set_ylabel(\"CA cumulé (€)\")\n",
    "plt.title(\"CA mensuel et cumul\")\n",
    "plt.tight_layout()\n",
    "fig.savefig(\"reports/figures/ca_mensuel_cumul.png\", dpi=150, facecolor=\"white\")\n",
    "plt.close(fig)\n",
    "\n",
    "# 2) Distribution des paniers\n",
    "fig = plt.figure(figsize=(6,4))\n",
    "plt.hist(df_orders[\"total_amount\"], bins=15, edgecolor=\"black\")\n",
    "plt.title(\"Distribution des paniers\")\n",
    "plt.xlabel(\"Montant de commande (€)\"); plt.ylabel(\"Nombre de commandes\")\n",
    "plt.tight_layout()\n",
    "fig.savefig(\"reports/figures/distribution_paniers.png\", dpi=150, facecolor=\"white\")\n",
    "plt.close(fig)\n",
    "\n",
    "# 3) Courbe de Pareto (CA par client)\n",
    "if \"rev_by_client\" not in globals():\n",
    "    rev_by_client = (\n",
    "        df_orders.groupby(\"customer_id\", as_index=False)[\"total_amount\"]\n",
    "                 .sum()\n",
    "                 .rename(columns={\"total_amount\": \"customer_revenue\"})\n",
    "                 .sort_values(\"customer_revenue\", ascending=False)\n",
    "                 .reset_index(drop=True)\n",
    "    )\n",
    "    rev_by_client[\"cum_share\"] = rev_by_client[\"customer_revenue\"].cumsum() / rev_by_client[\"customer_revenue\"].sum()\n",
    "\n",
    "fig, ax1 = plt.subplots(figsize=(7,4))\n",
    "ax1.bar(rev_by_client.index, rev_by_client[\"customer_revenue\"])\n",
    "ax1.set_xlabel(\"Clients (classés)\"); ax1.set_ylabel(\"CA par client (€)\")\n",
    "ax2 = ax1.twinx()\n",
    "ax2.plot(rev_by_client.index, rev_by_client[\"cum_share\"], marker=\"o\")\n",
    "ax2.set_ylabel(\"Part cumulée du CA\")\n",
    "plt.title(\"Pareto – CA par client\")\n",
    "plt.tight_layout()\n",
    "fig.savefig(\"reports/figures/pareto_clients.png\", dpi=150, facecolor=\"white\")\n",
    "plt.close(fig)\n",
    "\n",
    "# 4) Top produits (barres horizontales)\n",
    "if \"rev_by_product\" not in globals():\n",
    "    # nécessite df_items et df_products chargés ; recharge si besoin\n",
    "    if \"df_items\" not in globals() or \"df_products\" not in globals():\n",
    "        import sqlite3\n",
    "        conn = sqlite3.connect(\"data/ecommerce.db\")\n",
    "        df_items    = pd.read_sql(\"SELECT * FROM order_items;\", conn)\n",
    "        df_products = pd.read_sql(\"SELECT * FROM products;\", conn)\n",
    "        conn.close()\n",
    "    df_ip = df_items.merge(df_products, on=\"product_id\", how=\"left\")\n",
    "    rev_by_product = (\n",
    "        df_ip.groupby(\"product_name\", as_index=False)[\"line_amount\"]\n",
    "             .sum()\n",
    "             .rename(columns={\"line_amount\": \"revenue\"})\n",
    "             .sort_values(\"revenue\", ascending=False)\n",
    "    )\n",
    "\n",
    "fig = plt.figure(figsize=(7,4))\n",
    "plt.barh(rev_by_product[\"product_name\"].head(10), rev_by_product[\"revenue\"].head(10))\n",
    "plt.xlabel(\"CA (€)\"); plt.title(\"Top 10 produits\")\n",
    "plt.gca().invert_yaxis()\n",
    "plt.tight_layout()\n",
    "fig.savefig(\"reports/figures/top10_produits.png\", dpi=150, facecolor=\"white\")\n",
    "plt.close(fig)\n",
    "\n",
    "# 5) Répartition du CA par catégorie (camembert fond blanc)\n",
    "if \"rev_by_category\" not in globals():\n",
    "    rev_by_category = (\n",
    "        df_ip.groupby(\"category\", as_index=False)[\"line_amount\"]\n",
    "             .sum()\n",
    "             .rename(columns={\"line_amount\": \"revenue\"})\n",
    "             .sort_values(\"revenue\", ascending=False)\n",
    "    )\n",
    "\n",
    "plt.figure(figsize=(5,5), facecolor=\"white\")\n",
    "plt.pie(rev_by_category[\"revenue\"], labels=rev_by_category[\"category\"], autopct=\"%.1f%%\")\n",
    "plt.title(\"Répartition du CA par catégorie\")\n",
    "plt.tight_layout()\n",
    "plt.savefig(\"reports/figures/ca_par_categorie.png\", dpi=150, facecolor=\"white\")\n",
    "plt.close()"
   ]
  },
  {
   "cell_type": "code",
   "execution_count": 776,
   "id": "114ad997",
   "metadata": {},
   "outputs": [
    {
     "name": "stdout",
     "output_type": "stream",
     "text": [
      "✅ Fichiers CSV enregistrés dans /reports/data :\n",
      "- ca_par_pays.csv\n",
      "- pareto_clients.csv\n",
      "- top_produits.csv\n",
      "- ca_mensuel.csv\n"
     ]
    }
   ],
   "source": [
    "os.makedirs(\"reports/data\", exist_ok=True)\n",
    "\n",
    "# 1) CA mensuel\n",
    "df_monthly.to_csv(\"reports/data/ca_mensuel.csv\", index=False)\n",
    "\n",
    "# 2) CA par pays\n",
    "df_oc = df_orders.merge(df_customers, on=\"customer_id\", how=\"left\")\n",
    "rev_by_country = (\n",
    "    df_oc.groupby(\"country\", as_index=False)[\"total_amount\"]\n",
    "         .sum()\n",
    "         .rename(columns={\"total_amount\": \"revenue\"})\n",
    "         .sort_values(\"revenue\", ascending=False)\n",
    ")\n",
    "rev_by_country.to_csv(\"reports/data/ca_par_pays.csv\", index=False)\n",
    "\n",
    "# 3) Top produits\n",
    "rev_by_product.to_csv(\"reports/data/top_produits.csv\", index=False)\n",
    "\n",
    "# 4) Pareto clients\n",
    "rev_by_client.to_csv(\"reports/data/pareto_clients.csv\", index=False)\n",
    "\n",
    "print(\"✅ Fichiers CSV enregistrés dans /reports/data :\")\n",
    "for f in os.listdir(\"reports/data\"):\n",
    "    print(\"-\", f)"
   ]
  }
 ],
 "metadata": {
  "kernelspec": {
   "display_name": "base",
   "language": "python",
   "name": "python3"
  },
  "language_info": {
   "codemirror_mode": {
    "name": "ipython",
    "version": 3
   },
   "file_extension": ".py",
   "mimetype": "text/x-python",
   "name": "python",
   "nbconvert_exporter": "python",
   "pygments_lexer": "ipython3",
   "version": "3.7.10"
  }
 },
 "nbformat": 4,
 "nbformat_minor": 5
}
